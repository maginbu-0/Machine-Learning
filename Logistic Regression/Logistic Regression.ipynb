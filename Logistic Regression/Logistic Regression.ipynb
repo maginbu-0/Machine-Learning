{
 "cells": [
  {
   "cell_type": "code",
   "execution_count": 1,
   "metadata": {},
   "outputs": [],
   "source": [
    "import numpy as np\n",
    "import pandas as pd\n",
    "import matplotlib.pyplot as plt\n",
    "import seaborn as sns\n",
    "from sklearn.model_selection import train_test_split as tts\n",
    "from sklearn.linear_model import LinearRegression as LR\n",
    "from sklearn.metrics import mean_absolute_error, mean_squared_error, SCORERS\n",
    "import scipy as sp\n",
    "from joblib import dump,load\n",
    "from sklearn.preprocessing import PolynomialFeatures, StandardScaler\n",
    "from sklearn.linear_model import Ridge, RidgeCV, LassoCV, ElasticNetCV, ElasticNet\n",
    "from sklearn.model_selection import cross_val_score, cross_validate, GridSearchCV"
   ]
  },
  {
   "cell_type": "markdown",
   "metadata": {},
   "source": [
    "# Logistic Regression\n",
    "\n",
    "Is a classification algorithim designed to predict categorical data."
   ]
  },
  {
   "cell_type": "markdown",
   "metadata": {},
   "source": [
    "## Linear to logistic convertion\n",
    "\n",
    "Having a dataset with two values such as True and False (1, 0), linear regression wouldnt work as we are going to have a large amount of outliers.\n",
    "\n",
    "During logistic regression we are going to treat y as a probability plot of a value for x to be either a 0 or a 1, setting 0.5 as a cutoff.\n",
    "\n",
    "To convert this function, we just have to plug our linear regression function into the logistic regression, but how do we relate out beta coeff with our results?\n",
    "\n",
    "### Logistic Function\n",
    "\n",
    "$$ \\sigma (x) = \\frac{1} {1+e^{-x}}  $$\n",
    "\n",
    "### Linear Regression Function\n",
    "$$\n",
    "\\hat{y} =  \\beta_0 x_0 + ... + \\beta_n x_n\n",
    "$$\n",
    "\n",
    "### Transformation\n",
    "\n",
    "$$\n",
    "\\hat{y} = x \n",
    "$$\n",
    "$$\n",
    "\\sigma (x) = \\frac{1} {1+e^{-\\sum_{i=0}^n \\beta_i x_i}} \n",
    "$$\n",
    "We can also write it like this.\n",
    "$$\n",
    "\\hat{y} = \\sigma \\left({\\sum_{i=0}^n \\beta_i x_i}\\right)\n",
    "$$\n",
    "\n",
    "For us to understand our predicted outputs we need to understand **odds**.\n",
    "\n",
    "### Odds function\n",
    "\n",
    "The odds of an event with probability **p** is defined by the chance of the event happening divided by the chance of it not happening.\n",
    "\n",
    "$$\n",
    "\\frac{p}{1-p}\n",
    "$$\n",
    "\n",
    "Having and event with  $50$% of probability would follow the next odds:\n",
    "\n",
    "$$\n",
    "\\frac{0.5}{1-0.5} = \\frac{0.5}{0.5} = \\frac{1}{1}\n",
    "$$\n",
    "\n",
    "Giving us 1 to 1 odds of it ocurring.\n",
    "\n",
    "For our transformed function we can solve for the coeff and feature x in terms of the log odds. How do we saolve for the log odds?\n",
    "\n",
    "$$\n",
    "\\hat{y} + \\hat{y}e^{-\\sum_{i=0}^n \\beta_i x_i} = 1 \n",
    "$$\n",
    "\n",
    "We subtract $\\hat{y}$ from both sides, resulting in:\n",
    "\n",
    "$$\n",
    "\\hat{y}e^{-\\sum_{i=0}^n \\beta_i x_i} = 1 - \\hat{y}\n",
    "$$\n",
    "\n",
    "Now we divide both sides by $\\hat{y}$ and rearrange:\n",
    "\n",
    "$$\n",
    "\\frac{1 - \\hat{y}}{\\hat{y}} = e^{-\\sum_{i=0}^n \\beta_i x_i}\n",
    "$$\n",
    "\n",
    "We are able to remove the constant $e$ from the equation by taking the natural logarithm of the function:\n",
    "\n",
    "$$\n",
    "ln\\left( \\frac{1 - \\hat{y}}{\\hat{y}} \\right) = \\sum_{i=0}^n \\beta_i x_i\n",
    "$$"
   ]
  },
  {
   "cell_type": "markdown",
   "metadata": {},
   "source": []
  },
  {
   "cell_type": "markdown",
   "metadata": {},
   "source": []
  },
  {
   "cell_type": "code",
   "execution_count": null,
   "metadata": {},
   "outputs": [],
   "source": []
  }
 ],
 "metadata": {
  "kernelspec": {
   "display_name": "Python 3",
   "language": "python",
   "name": "python3"
  },
  "language_info": {
   "codemirror_mode": {
    "name": "ipython",
    "version": 3
   },
   "file_extension": ".py",
   "mimetype": "text/x-python",
   "name": "python",
   "nbconvert_exporter": "python",
   "pygments_lexer": "ipython3",
   "version": "3.9.12"
  }
 },
 "nbformat": 4,
 "nbformat_minor": 2
}
