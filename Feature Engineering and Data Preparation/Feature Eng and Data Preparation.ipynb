{
 "cells": [
  {
   "cell_type": "code",
   "execution_count": 1,
   "metadata": {},
   "outputs": [],
   "source": [
    "import numpy as np\n",
    "import pandas as pd\n",
    "import matplotlib.pyplot as plt\n",
    "import seaborn as sns\n",
    "from sklearn.model_selection import train_test_split as tts\n",
    "from sklearn.linear_model import LinearRegression as LR\n",
    "from sklearn.metrics import mean_absolute_error, mean_squared_error, SCORERS\n",
    "import scipy as sp\n",
    "from joblib import dump,load\n",
    "from sklearn.preprocessing import PolynomialFeatures, StandardScaler\n",
    "from sklearn.linear_model import Ridge, RidgeCV, LassoCV, ElasticNetCV"
   ]
  },
  {
   "cell_type": "markdown",
   "metadata": {},
   "source": [
    "# Feature Engineering\n",
    "\n",
    "This is the process of using domain knowledge to extract features through data mining.\n",
    "\n",
    "## Extracting information:\n",
    "\n",
    "- Considering a dataset with timestamps for each row\n",
    "\n",
    "    - For us to work with this data we need to convert it to a numerical expression\n",
    "\n",
    "- Now considering a dataset with long text data, we could think about extracting information such as\n",
    "\n",
    "    - Length of text\n",
    "    - Number of times certain words are mentioned\n",
    "\n",
    "## Combining Information\n",
    "\n",
    "\n",
    "- We can combine given information or extracted information.\n",
    "    - Here we can get a new feature with 0 or 1 values indicating a combination of two other features.\n",
    "\n",
    "## Transforming Information\n",
    "\n",
    "- Very common for string data as most algorithms can't accept string data.\n",
    "    - Let's say we have a feature where we encode country codes. We can transform it using:\n",
    "        > **Integer Encoding:** \n",
    "        > - Directly converts categories into integers. This may or may not work depeding on the feature and the domain. For this case it wont work, but if we think  of it in the case for a spice level for a sauce it would make sense.\n",
    "        \n",
    "        > **One-hot Encoding:** \n",
    "        > - It creates features using 0 and 1 for every single category for that feature. Meaning it will create more columns in our data.\n",
    "\n",
    "\n",
    "\n"
   ]
  },
  {
   "cell_type": "code",
   "execution_count": null,
   "metadata": {},
   "outputs": [],
   "source": []
  }
 ],
 "metadata": {
  "kernelspec": {
   "display_name": "Python 3",
   "language": "python",
   "name": "python3"
  },
  "language_info": {
   "codemirror_mode": {
    "name": "ipython",
    "version": 3
   },
   "file_extension": ".py",
   "mimetype": "text/x-python",
   "name": "python",
   "nbconvert_exporter": "python",
   "pygments_lexer": "ipython3",
   "version": "3.9.12"
  }
 },
 "nbformat": 4,
 "nbformat_minor": 2
}
